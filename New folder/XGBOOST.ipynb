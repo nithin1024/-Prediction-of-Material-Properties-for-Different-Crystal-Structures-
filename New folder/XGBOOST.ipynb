{
  "nbformat": 4,
  "nbformat_minor": 0,
  "metadata": {
    "colab": {
      "provenance": []
    },
    "kernelspec": {
      "name": "python3",
      "display_name": "Python 3"
    },
    "language_info": {
      "name": "python"
    }
  },
  "cells": [
    {
      "cell_type": "code",
      "source": [
        "import numpy as np\n",
        "import pandas as pd\n",
        "\n",
        "# Read the first 1000 rows from the cubic structure Excel file\n",
        "dataset_cubic = pd.read_excel('/content/cubic.xlsx', nrows=1000)\n",
        "X_cubic = dataset_cubic.iloc[:, 1:27].values\n",
        "y_1 = dataset_cubic.iloc[:, 27:28].values\n",
        "identity_cubic = np.ones([len(X_cubic), 1]) * 1\n",
        "X_1 = np.hstack((X_cubic, identity_cubic))\n",
        "\n",
        "# Read the first 1000 rows from the hexagonal structure Excel file\n",
        "dataset_hexagonal = pd.read_excel('/content/hexagonal.xlsx', nrows=1000)\n",
        "X_hexagonal = dataset_hexagonal.iloc[:, 1:27].values\n",
        "y_2 = dataset_hexagonal.iloc[:, 27:28].values\n",
        "identity_hexagonal = np.ones([len(X_hexagonal), 1]) * 2\n",
        "X_2 = np.hstack((X_hexagonal, identity_hexagonal))\n"
      ],
      "metadata": {
        "id": "j1rxCzYOi2Ec"
      },
      "execution_count": null,
      "outputs": []
    },
    {
      "cell_type": "code",
      "source": [
        "import numpy as np\n",
        "import pandas as pd\n",
        "\n",
        "# Read the first 1000 rows from the cubic structure Excel file\n",
        "dataset_cubic = pd.read_excel('/content/cubic.xlsx', nrows=1000)\n",
        "X_cubic = dataset_cubic.iloc[:, 1:27].values\n",
        "y_1 = dataset_cubic.iloc[:, 27:28].values\n",
        "identity_cubic = np.ones([len(X_cubic), 1]) * 1\n",
        "X_1 = np.hstack((X_cubic, identity_cubic))\n",
        "\n",
        "# Read the first 1000 rows from the hexagonal structure Excel file\n",
        "dataset_hexagonal = pd.read_excel('/content/hexagonal.xlsx', nrows=1000)\n",
        "X_hexagonal = dataset_hexagonal.iloc[:, 1:27].values\n",
        "y_2 = dataset_hexagonal.iloc[:, 27:28].values\n",
        "identity_hexagonal = np.ones([len(X_hexagonal), 1]) * 2\n",
        "X_2 = np.hstack((X_hexagonal, identity_hexagonal))\n",
        "\n",
        "# Read the first 1000 rows from the monoclinic structure Excel file\n",
        "dataset_monoclinic = pd.read_excel('/content/monoclinic.xlsx', nrows=1000)\n",
        "X_monoclinic = dataset_monoclinic.iloc[:, 1:27].values\n",
        "y_3 = dataset_monoclinic.iloc[:, 27:28].values\n",
        "identity_monoclinic = np.ones([len(X_monoclinic), 1]) * 3\n",
        "X_3 = np.hstack((X_monoclinic, identity_monoclinic))\n",
        "\n",
        "# Read the first 1000 rows from the orthorhombic structure Excel file\n",
        "dataset_orthorhombic = pd.read_excel('/content/orthorhombic.xlsx', nrows=1000)\n",
        "X_orthorhombic = dataset_orthorhombic.iloc[:, 1:27].values\n",
        "y_4 = dataset_orthorhombic.iloc[:, 27:28].values\n",
        "identity_orthorhombic = np.ones([len(X_orthorhombic), 1]) * 4\n",
        "X_4 = np.hstack((X_orthorhombic, identity_orthorhombic))\n",
        "\n",
        "# Read the first 1000 rows from the tetragonal structure Excel file\n",
        "dataset_tetragonal = pd.read_excel('/content/tetragonal.xlsx', nrows=1000)\n",
        "X_tetragonal = dataset_tetragonal.iloc[:, 1:27].values\n",
        "y_5 = dataset_tetragonal.iloc[:, 27:28].values\n",
        "identity_tetragonal = np.ones([len(X_tetragonal), 1]) * 5\n",
        "X_5 = np.hstack((X_tetragonal, identity_tetragonal))\n",
        "\n",
        "# Read the first 1000 rows from the triclinic structure Excel file\n",
        "dataset_triclinic = pd.read_excel('/content/triclinic.xlsx', nrows=1000)\n",
        "X_triclinic = dataset_triclinic.iloc[:, 1:27].values\n",
        "y_6 = dataset_triclinic.iloc[:, 27:28].values\n",
        "identity_triclinic = np.ones([len(X_triclinic), 1]) * 6\n",
        "X_6 = np.hstack((X_triclinic, identity_triclinic))\n",
        "\n",
        "# Read the first 1000 rows from the trigonal structure Excel file\n",
        "dataset_trigonal = pd.read_excel('/content/trigonal.xlsx', nrows=1000)\n",
        "X_trigonal = dataset_trigonal.iloc[:, 1:27].values\n",
        "y_7 = dataset_trigonal.iloc[:, 27:28].values\n",
        "identity_trigonal = np.ones([len(X_trigonal), 1]) * 7\n",
        "X_7 = np.hstack((X_trigonal, identity_trigonal))\n",
        "\n",
        "# Combine all datasets\n",
        "X = np.vstack((X_1, X_2, X_3, X_4, X_5, X_6, X_7))\n",
        "y = np.vstack((y_1, y_2, y_3, y_4, y_5, y_6, y_7))\n",
        "\n",
        "# Process the data\n",
        "doping = X[:, 13]\n",
        "indices_1 = np.where(doping == 1e20)\n",
        "X1 = X[indices_1, :][0]\n",
        "y1 = y[indices_1, :][0]\n",
        "\n",
        "indices_2 = np.where(doping == 1e19)\n",
        "X2 = X[indices_2, :][0]\n",
        "y2 = y[indices_2, :][0]\n",
        "\n",
        "indices_3 = np.where(doping == 1e18)\n",
        "X3 = X[indices_3, :][0]\n",
        "y3 = y[indices_3, :][0]\n",
        "\n",
        "temperature = X3[:, 12]\n",
        "indices_4 = np.where(temperature < 1000)\n",
        "X3 = X3[indices_4, :][0]\n",
        "y3 = y3[indices_4, :][0]\n",
        "\n",
        "X = np.vstack((X1, X2, X3))\n",
        "y = np.vstack((y1, y2, y3))\n",
        "\n",
        "indices_5 = np.where(y * (10**-21) >= 1)  # Only power factor >= 1\n",
        "y = np.log10(y[indices_5, :][0])**6\n",
        "X = X[indices_5, :][0]\n"
      ],
      "metadata": {
        "id": "g_ZzT0vNugTb"
      },
      "execution_count": null,
      "outputs": []
    },
    {
      "cell_type": "code",
      "source": [
        "# XG Boost regression\n",
        "\n",
        "# Split the dataset into training set and test set\n",
        "\n",
        "from sklearn.model_selection import train_test_split\n",
        "X_train, X_test, y_train, y_test = train_test_split(X, y, test_size = 0.1)\n",
        "\n",
        "from xgboost import XGBRegressor\n",
        "\n",
        "regressor = XGBRegressor(n_estimators = 319,\n",
        "                         max_depth = 10,\n",
        "                         min_child_weight = 10,\n",
        "                         learning_rate = 0.2,\n",
        "                         gamma = 1,\n",
        "                         alpha = 0.75,\n",
        "                         reg_lambda = 10,\n",
        "                         scale_pos_weight = 3.4,\n",
        "                         subsample = 1) # n_estimators refers to the number of trees needed\n",
        "\n",
        "regressor.fit(X_train,y_train)\n",
        "\n",
        "y_pred = regressor.predict(X_test)"
      ],
      "metadata": {
        "id": "em-PiFc_uw7B"
      },
      "execution_count": null,
      "outputs": []
    },
    {
      "cell_type": "code",
      "source": [
        "# Plot actual vs predicted and compute MAPE\n",
        "plt.scatter(y_test**(1/6),y_pred**(1/6))\n",
        "pred = 10**(y_pred**(1/6))\n",
        "target = 10**(y_test**(1/6))\n",
        "total = 0\n",
        "cnt = 0\n",
        "for i in range(len(y_pred)):\n",
        "    total += (abs(target[i] - pred[i])/target[i])*100\n",
        "    cnt += 1\n",
        "print(\"The MAPE is \" + str(round((total/cnt)[0],2)) + \" %.\")"
      ],
      "metadata": {
        "colab": {
          "base_uri": "https://localhost:8080/",
          "height": 453
        },
        "id": "FrNOqIuXu9Zp",
        "outputId": "31d81a79-cf7e-400c-f807-62539aaaedb8"
      },
      "execution_count": null,
      "outputs": [
        {
          "output_type": "stream",
          "name": "stdout",
          "text": [
            "The MAPE is 17.62 %.\n"
          ]
        },
        {
          "output_type": "display_data",
          "data": {
            "text/plain": [
              "<Figure size 640x480 with 1 Axes>"
            ],
            "image/png": "[encoded data removed]"
          },
          "metadata": {}
        }
      ]
    },
    {
      "cell_type": "code",
      "source": [],
      "metadata": {
        "id": "TDT5e78Uu13a"
      },
      "execution_count": null,
      "outputs": []
    }
  ]
}